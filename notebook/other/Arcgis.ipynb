{
 "cells": [
  {
   "cell_type": "code",
   "execution_count": null,
   "metadata": {},
   "outputs": [],
   "source": [
    "import arcpy\n",
    "import os"
   ]
  },
  {
   "cell_type": "code",
   "execution_count": null,
   "metadata": {},
   "outputs": [],
   "source": [
    "if not os.path.exists('victoria.gdb'):\n",
    "    arcpy.management.CreateFileGDB('.','victoria.gdb')\n",
    "\n",
    "# workspace\n",
    "arcpy.env.workspace = r'./victoria.gdb'\n",
    "arcpy.env.overwriteOutput = True"
   ]
  },
  {
   "cell_type": "code",
   "execution_count": null,
   "metadata": {},
   "outputs": [],
   "source": [
    "# import maps\n",
    "signals_url = 'https://services2.arcgis.com/18ajPSI0b3ppsmMt/arcgis/rest/services/traffic_lights/FeatureServer'\n",
    "\n",
    "collisions_csv = r'../../data/accident_weather.csv'\n",
    "\n",
    "# Roads data\n",
    "# major_roads = 'https://data.vicroads.vic.gov.au/arcgis/rest/services/HeavyVehicles/OSOM_SCHEME_MAP_NETWORK_D6/MapServer'\n",
    "# appr_local_road = 'https://data.vicroads.vic.gov.au/arcgis/rest/services/HeavyVehicles/OSOM_SCHEME_MAP_NETWORK_D6/MapServer/8'\n",
    "# appr_arterial_road = 'https://data.vicroads.vic.gov.au/arcgis/rest/services/HeavyVehicles/OSOM_SCHEME_MAP_NETWORK_D6/MapServer/7'\n",
    "condi_appr_local_road = 'https://data.vicroads.vic.gov.au/arcgis/rest/services/HeavyVehicles/OSOM_SCHEME_MAP_NETWORK_D6/MapServer/6'\n",
    "condi_appr_arterial_road = 'https://data.vicroads.vic.gov.au/arcgis/rest/services/HeavyVehicles/OSOM_SCHEME_MAP_NETWORK_D6/MapServer/5'\n",
    "restr_local_road = 'https://data.vicroads.vic.gov.au/arcgis/rest/services/HeavyVehicles/OSOM_SCHEME_MAP_NETWORK_D6/MapServer/4'\n",
    "restr_arterial_road = 'https://data.vicroads.vic.gov.au/arcgis/rest/services/HeavyVehicles/OSOM_SCHEME_MAP_NETWORK_D6/MapServer/3'\n",
    "# restr_struct = 'https://data.vicroads.vic.gov.au/arcgis/rest/services/HeavyVehicles/OSOM_SCHEME_MAP_NETWORK_D6/MapServer/1'\n"
   ]
  },
  {
   "cell_type": "code",
   "execution_count": null,
   "metadata": {},
   "outputs": [],
   "source": [
    "# Copy the major road centerlines to the gdb\n",
    "# _ = arcpy.management.CopyFeatures(in_features=appr_local_road,out_feature_class='centerlines')\n",
    "# _ = arcpy.management.CopyFeatures(in_features=appr_arterial_road,out_feature_class='centerlines')\n",
    "_ = arcpy.management.CopyFeatures(in_features=condi_appr_local_road,out_feature_class='centerlines_1')\n",
    "_ = arcpy.management.Merge(['centerlines_1',condi_appr_arterial_road],'centerlines_2')\n",
    "_ = arcpy.management.Merge(['centerlines_2',condi_appr_arterial_road],'centerlines_3')\n",
    "_ = arcpy.management.Merge(['centerlines_3',condi_appr_arterial_road],'centerlines')"
   ]
  },
  {
   "cell_type": "code",
   "execution_count": null,
   "metadata": {},
   "outputs": [],
   "source": [
    "# 7 feature\n",
    "print([f.name for f in arcpy.ListFields('centerlines')])"
   ]
  },
  {
   "cell_type": "code",
   "execution_count": null,
   "metadata": {},
   "outputs": [],
   "source": [
    "fields = dict((f.name, []) for f in arcpy.ListFields('centerlines') if not f.required)\n",
    "\n",
    "rows = arcpy.SearchCursor('centerlines',\"\",\"\",\"\",\"\")\n",
    "for row in rows:\n",
    "    for f in fields.keys():\n",
    "        fields[f].append(row.getValue(f))\n",
    "print(fields)"
   ]
  },
  {
   "cell_type": "code",
   "execution_count": null,
   "metadata": {},
   "outputs": [],
   "source": []
  },
  {
   "cell_type": "code",
   "execution_count": null,
   "metadata": {},
   "outputs": [],
   "source": []
  }
 ],
 "metadata": {
  "kernelspec": {
   "display_name": "Python 3",
   "language": "python",
   "name": "python3"
  },
  "language_info": {
   "codemirror_mode": {
    "name": "ipython",
    "version": 3
   },
   "file_extension": ".py",
   "mimetype": "text/x-python",
   "name": "python",
   "nbconvert_exporter": "python",
   "pygments_lexer": "ipython3",
   "version": "3.6.0"
  }
 },
 "nbformat": 4,
 "nbformat_minor": 2
}
